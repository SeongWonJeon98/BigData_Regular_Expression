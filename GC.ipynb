{
 "cells": [
  {
   "attachments": {},
   "cell_type": "markdown",
   "metadata": {},
   "source": [
    "##### 가비지 수집은 프로그램에서 더 이상 필요하지 않은 메모리를 회수하기 위해 프로그래밍 언어에서 사용되는 자동 메모리 관리 메커니즘입니다. \n",
    "##### 메모리 할당 및 할당 해제를 관리하는 데 도움이 되므로 프로그래머가 명시적으로 메모리 할당을 해제하지 않아도 됩니다.\n",
    "\n",
    "##### 수동 메모리 관리는 오류가 발생하기 쉽고 시간이 오래 걸리기 때문에 가비지 수집이 필요합니다.\n",
    "##### 더 이상 필요하지 않은 메모리가 적절하게 할당 해제되지 않으면 메모리가 묶여 프로그램의 다른 부분에서 사용할 수 없는 메모리 누수가 발생할 수 있습니다. \n",
    "##### 가비지 수집은 더 이상 사용하지 않는 메모리를 자동으로 식별하고 회수하여 메모리 누수를 방지하는 데 도움이 됩니다.\n",
    "\n",
    "##### 가비지 수집 프로세스에는 다음과 같은 여러 단계가 포함됩니다.\n",
    "###### 1.마킹: 가비지 컬렉터는 할당된 모든 메모리를 탐색하고 프로그램에서 여전히 도달 가능하거나 사용 중인 객체를 식별합니다. 이러한 개체를 라이브로 표시합니다.\n",
    "###### 2.청소: 그런 다음 가비지 수집기는 메모리를 스캔하고 라이브로 표시되지 않은 개체가 차지하는 메모리를 회수합니다. 이 메모리는 가비지로 간주되며 나중에 사용할 수 있도록 해제됩니다.\n",
    "###### 3.압축(선택 사항): 일부 가비지 수집 알고리즘에서는 메모리를 압축하는 추가 단계가 수행됩니다. 여기에는 메모리 조각화를 줄이고 메모리 사용을 최적화하기 위해 라이브 개체를 더 가깝게 이동하는 작업이   포함됩니다.\n",
    "\n",
    "##### 가비지 수집 알고리즘은 구현에 따라 다를 수 있지만 일반적으로 가비지를 식별하고 회수하기 위해 마킹 및 스위핑 기술의 조합을 사용합니다.\n",
    "##### 일부 일반적인 가비지 수집 알고리즘에는 참조 카운팅, 표시 및 스윕, 세대별 수집이 포함됩니다.\n",
    "##### 가비지 수집은 런타임 환경에서 메모리 관리를 처리하는 Java, Python, C# 및 JavaScript와 같은 언어에서 특히 유용합니다.\n",
    "#####  메모리 관리를 단순화하고 프로그램 안정성을 개선하며 메모리 관련 버그의 위험을 줄이는 데 도움이 됩니다. \n",
    "##### 그러나 CPU 주기 측면에서 약간의 오버헤드가 발생하고 가비지 수집 프로세스 중에 프로그램 실행이 잠시 일시 중지될 수 있습니다.\n",
    "\n"
   ]
  },
  {
   "cell_type": "code",
   "execution_count": 1,
   "metadata": {},
   "outputs": [],
   "source": [
    "# 1. 순환 참조 피하기: 순환 참조는 두 개 이상의 개체가 서로 참조하여 루프를 형성할 때 발생합니다. \n",
    "# 가비지 컬렉션은 이러한 개체를 감지하고 수집하지 못하여 메모리 누수가 발생할 수 있습니다. \n",
    "# 이를 방지하려면 참조 중 하나를 '없음'으로 설정하거나 약한 참조를 사용하여 순환 참조를 끊으십시오. 예를 들면 다음과 같습니다.\n",
    "\n",
    "import weakref\n",
    "\n",
    "class Person:\n",
    "    def __init__(self, name):\n",
    "        self.name = name\n",
    "        self.friend = None\n",
    "\n",
    "    def set_friend(self, friend):\n",
    "        self.friend = weakref.ref(friend)\n",
    "\n",
    "\n",
    "# Create objects with a circular reference\n",
    "person1 = Person(\"John\")\n",
    "person2 = Person(\"Alice\")\n",
    "person1.set_friend(person2)\n",
    "person2.set_friend(person1)\n",
    "\n",
    "# 이 예제에서는 weakref 모듈을 사용하여 friend 개체에 대한 약한 참조를 만들고 순환 참조를 끊습니다. 약한 참조는 개체가 가비지 수집되는 것을 막지 않습니다."
   ]
  },
  {
   "cell_type": "code",
   "execution_count": 3,
   "metadata": {},
   "outputs": [],
   "source": [
    "# 2.리소스를 명시적으로 해제: 개체가 파일 핸들, 네트워크 연결 또는 잠금과 같은 리소스를 보유하고 있는 경우 더 이상 필요하지 않을 때 명시적으로 해제해야 합니다.\n",
    "# 가비지 수집은 리소스 할당 해제를 처리하지 못할 수 있으므로 적절하게 해제하는 것이 중요합니다. 예를 들면 다음과 같습니다.\n",
    "\n",
    "class FileHandler:\n",
    "    def __init__(self, filename):\n",
    "        self.file = open(filename, \"r\")\n",
    "\n",
    "    def close(self):\n",
    "        self.file.close()\n",
    "\n",
    "# Create an object with a file handle\n",
    "handler = FileHandler(\"data.txt\")\n",
    "# Use the file handler...\n",
    "# ...\n",
    "# Close the file when done\n",
    "handler.close()\n",
    "\n",
    "# 이 예제에서는 close() 메서드가 명시적으로 호출되어 파일 핸들을 해제하고 파일을 닫습니다."
   ]
  },
  {
   "cell_type": "code",
   "execution_count": 6,
   "metadata": {},
   "outputs": [
    {
     "name": "stdout",
     "output_type": "stream",
     "text": [
      "Deleting Resource\n"
     ]
    }
   ],
   "source": [
    "# 3.전역 참조에 주의하십시오. 전역 변수는 개체가 가비지 수집되는 것을 방지할 수 있는 참조를 보유합니다. \n",
    "# 전역 변수의 사용을 최소화하고 더 이상 필요하지 않을 때 해제하거나 '없음'으로 설정하도록 합니다.\n",
    "# 위의 지침을 따르지 않으면 가비지 수집을 사용해도 메모리 누수가 계속 발생할 수 있습니다.\n",
    "# 다음은 가비지 수집에도 불구하고 메모리 누수를 일으키는 예입니다.\n",
    "\n",
    "import gc\n",
    "\n",
    "class Resource:\n",
    "    def __init__(self, name):\n",
    "        self.name = name\n",
    "\n",
    "    def __del__(self):\n",
    "        print(f\"Deleting {self.name}\")\n",
    "\n",
    "\n",
    "def create_resource():\n",
    "    resource = Resource(\"Resource\")\n",
    "    # Add the object to the garbage collector's ignore list\n",
    "    #gc.ignore(resource)\n",
    "    gc.collect()\n",
    "\n",
    "# Call the function to create the resource\n",
    "create_resource()\n",
    "\n",
    "# 이 예제에서는 gc.ignore() 함수를 사용하여 resource 개체를 가비지 수집기의 무시 목록에 추가합니다. <- gpt에서 이렇게 알려줫으나 오류나서 collect로 수정.\n",
    "# 결과적으로 가비지 수집기는 개체를 수집할 수 없으며 소멸자가 호출되지 않아 메모리 누수가 발생합니다."
   ]
  },
  {
   "attachments": {},
   "cell_type": "markdown",
   "metadata": {},
   "source": [
    "## 출처 : Chat GPT"
   ]
  }
 ],
 "metadata": {
  "kernelspec": {
   "display_name": "Python 3",
   "language": "python",
   "name": "python3"
  },
  "language_info": {
   "codemirror_mode": {
    "name": "ipython",
    "version": 3
   },
   "file_extension": ".py",
   "mimetype": "text/x-python",
   "name": "python",
   "nbconvert_exporter": "python",
   "pygments_lexer": "ipython3",
   "version": "3.11.3"
  },
  "orig_nbformat": 4
 },
 "nbformat": 4,
 "nbformat_minor": 2
}
