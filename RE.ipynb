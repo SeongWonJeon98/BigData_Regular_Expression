{
 "cells": [
  {
   "attachments": {},
   "cell_type": "markdown",
   "metadata": {},
   "source": [
    "## 정규식은 검색 패턴을 정의하는 일련의 문자입니다. \n",
    "## 일반적으로 프로그래밍 및 텍스트 처리에서 특정 패턴을 기반으로 \n",
    "## 텍스트 문자열을 찾고 조작하는 데 사용됩니다. \n",
    "## 정규식은 다양한 응용 프로그램에서 텍스트 검색, \n",
    "## 일치 및 교체와 같은 작업을 수행하는 유연하고 강력한 방법을 제공합니다."
   ]
  },
  {
   "cell_type": "code",
   "execution_count": null,
   "metadata": {},
   "outputs": [],
   "source": []
  }
 ],
 "metadata": {
  "language_info": {
   "name": "python"
  },
  "orig_nbformat": 4
 },
 "nbformat": 4,
 "nbformat_minor": 2
}
