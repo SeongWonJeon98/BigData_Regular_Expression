{
 "cells": [
  {
   "attachments": {},
   "cell_type": "markdown",
   "metadata": {},
   "source": [
    "## 정규식은 검색 패턴을 정의하는 일련의 문자입니다. \n",
    "## 일반적으로 프로그래밍 및 텍스트 처리에서 특정 패턴을 기반으로 \n",
    "## 텍스트 문자열을 찾고 조작하는 데 사용됩니다. \n",
    "## 정규식은 다양한 응용 프로그램에서 텍스트 검색, \n",
    "## 일치 및 교체와 같은 작업을 수행하는 유연하고 강력한 방법을 제공합니다."
   ]
  },
  {
   "attachments": {},
   "cell_type": "markdown",
   "metadata": {},
   "source": [
    "# 1.특정 패턴 일치"
   ]
  },
  {
   "cell_type": "code",
   "execution_count": 1,
   "metadata": {},
   "outputs": [],
   "source": [
    "import re\n",
    "\n",
    "text = \"I have an apple and a banana\"\n",
    "pattern = r\"apple\"\n",
    "match = re.search(pattern, text)\n",
    "\n",
    "if match:\n",
    "    print(\"패턴 발견!!\")\n",
    "else:\n",
    "    print(\"패턴 발견 실패!!\")"
   ]
  },
  {
   "attachments": {},
   "cell_type": "markdown",
   "metadata": {},
   "source": [
    "# 2. 패턴의 여러 항목 일치"
   ]
  },
  {
   "cell_type": "code",
   "execution_count": 2,
   "metadata": {},
   "outputs": [
    {
     "name": "stdout",
     "output_type": "stream",
     "text": [
      "['a', 'a', 'a', 'a', 'a']\n"
     ]
    }
   ],
   "source": [
    "import re\n",
    "\n",
    "# Find all occurrences of the pattern 'a' in the text\n",
    "text = \"abracadabra\"\n",
    "pattern = r\"a\"\n",
    "matches = re.findall(pattern, text)\n",
    "\n",
    "print(matches)"
   ]
  },
  {
   "attachments": {},
   "cell_type": "markdown",
   "metadata": {},
   "source": [
    "# 3.패턴에 특수 문자 사용"
   ]
  },
  {
   "cell_type": "code",
   "execution_count": 3,
   "metadata": {},
   "outputs": [
    {
     "name": "stdout",
     "output_type": "stream",
     "text": [
      "['cat', 'car', 'can', 'coa']\n"
     ]
    }
   ],
   "source": [
    "import re\n",
    "\n",
    "# Find all words starting with 'c' followed by any two characters\n",
    "text = \"cat dog car can coat\"\n",
    "pattern = r\"c\\w\\w\"\n",
    "matches = re.findall(pattern, text)\n",
    "\n",
    "print(matches)"
   ]
  },
  {
   "attachments": {},
   "cell_type": "markdown",
   "metadata": {},
   "source": [
    "# 4.그룹을 사용하여 문자열의 특정 부분 추출"
   ]
  },
  {
   "cell_type": "code",
   "execution_count": 4,
   "metadata": {},
   "outputs": [
    {
     "name": "stdout",
     "output_type": "stream",
     "text": [
      "Area code: 123\n",
      "Local number: 456-7890\n"
     ]
    }
   ],
   "source": [
    "import re\n",
    "\n",
    "# Extract the area code and local number from a phone number\n",
    "phone_number = \"Phone: 123-456-7890\"\n",
    "pattern = r\"(\\d{3})-(\\d{3}-\\d{4})\"\n",
    "match = re.search(pattern, phone_number)\n",
    "\n",
    "if match:\n",
    "    area_code = match.group(1)\n",
    "    local_number = match.group(2)\n",
    "    print(f\"Area code: {area_code}\")\n",
    "    print(f\"Local number: {local_number}\")"
   ]
  },
  {
   "attachments": {},
   "cell_type": "markdown",
   "metadata": {},
   "source": [
    "### 이것들은 파이썬에서 정규 표현식의 기본 사용법에 대한 아이디어를 제공하는 몇 가지 예일 뿐입니다.\n",
    "### 정규식은 훨씬 더 복잡하고 강력할 수 있으므로 고급 텍스트 조작 및 패턴 일치 작업을 수행할 수 있습니다.\n",
    "### 모듈에서 제공하는 추가 기능 및 자세한 정보는 re 모듈에 대한 Python 문서를 참조할 수 있습니다.\n",
    "\n",
    "##### 출처 : Chat GPT\n",
    "\n"
   ]
  }
 ],
 "metadata": {
  "kernelspec": {
   "display_name": "Python 3",
   "language": "python",
   "name": "python3"
  },
  "language_info": {
   "codemirror_mode": {
    "name": "ipython",
    "version": 3
   },
   "file_extension": ".py",
   "mimetype": "text/x-python",
   "name": "python",
   "nbconvert_exporter": "python",
   "pygments_lexer": "ipython3",
   "version": "3.11.3"
  },
  "orig_nbformat": 4
 },
 "nbformat": 4,
 "nbformat_minor": 2
}
